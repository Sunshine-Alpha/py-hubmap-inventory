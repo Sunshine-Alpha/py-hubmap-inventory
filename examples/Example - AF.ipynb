{
 "cells": [
  {
   "cell_type": "markdown",
   "id": "6c2e3d3e-9cb5-4644-90ab-b9b26f489e73",
   "metadata": {},
   "source": [
    "# AF\n",
    "Build inventories for datasets belonging to the assay type `AF`."
   ]
  },
  {
   "cell_type": "code",
   "execution_count": null,
   "id": "1dd32157-936b-47a9-80aa-b3b5f7b95d59",
   "metadata": {},
   "outputs": [],
   "source": [
    "import hubmapinventory\n",
    "import hubmapbags\n",
    "\n",
    "token = 'TOKEN'\n",
    "ncores = 2\n",
    "data_type = 'AF'\n",
    "\n",
    "datasets = hubmapbags.apis.get_ids( data_type, token=token )"
   ]
  },
  {
   "cell_type": "code",
   "execution_count": null,
   "id": "841e9540-a623-4040-85d2-fceea9db3909",
   "metadata": {},
   "outputs": [],
   "source": [
    "compute_uuids = True\n",
    "for dataset in datasets:\n",
    "    if dataset['status'] == 'Published':\n",
    "        df = hubmapinventory.inventory.create(\n",
    "                        dataset['hubmap_id'],\n",
    "                        token=token,\n",
    "                        ncores=ncores,\n",
    "                        compute_uuids=compute_uuids,\n",
    "                        recompute_file_extension=True,\n",
    "        )"
   ]
  }
 ],
 "metadata": {
  "kernelspec": {
   "display_name": "Python 3 (ipykernel)",
   "language": "python",
   "name": "python3"
  },
  "language_info": {
   "codemirror_mode": {
    "name": "ipython",
    "version": 3
   },
   "file_extension": ".py",
   "mimetype": "text/x-python",
   "name": "python",
   "nbconvert_exporter": "python",
   "pygments_lexer": "ipython3",
   "version": "3.10.9"
  }
 },
 "nbformat": 4,
 "nbformat_minor": 5
}
