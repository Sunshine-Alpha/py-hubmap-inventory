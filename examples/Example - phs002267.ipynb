{
 "cells": [
  {
   "cell_type": "markdown",
   "id": "1b9c4733-63dd-4bfd-9c8c-f367d252dd11",
   "metadata": {},
   "source": [
    "# phs002267\n",
    "Build inventories for datasets belonging to dbGaP study `phs002267`."
   ]
  },
  {
   "cell_type": "code",
   "execution_count": null,
   "id": "841e9540-a623-4040-85d2-fceea9db3909",
   "metadata": {},
   "outputs": [],
   "source": [
    "import hubmapinventory\n",
    "import hubmapbags\n",
    "\n",
    "token = 'TOKEN'\n",
    "ncores = 2\n",
    "\n",
    "dbgap_study_id = 'phs002267';\n",
    "dataset = 'HBM666.FFFW.363'\n",
    "compute_uuids = True\n",
    "df = hubmapinventory.inventory.create(\n",
    "    dataset,\n",
    "    token=token,\n",
    "    ncores=ncores,\n",
    "    dbgap_study_id = dbgap_study_id,\n",
    "    compute_uuids=compute_uuids,\n",
    "    recompute_file_extension=True,\n",
    ")"
   ]
  },
  {
   "cell_type": "code",
   "execution_count": null,
   "id": "34a0364f-93ee-431a-8ab0-f6e39b812066",
   "metadata": {},
   "outputs": [],
   "source": [
    "df"
   ]
  }
 ],
 "metadata": {
  "kernelspec": {
   "display_name": "Python 3 (ipykernel)",
   "language": "python",
   "name": "python3"
  },
  "language_info": {
   "codemirror_mode": {
    "name": "ipython",
    "version": 3
   },
   "file_extension": ".py",
   "mimetype": "text/x-python",
   "name": "python",
   "nbconvert_exporter": "python",
   "pygments_lexer": "ipython3",
   "version": "3.10.9"
  }
 },
 "nbformat": 4,
 "nbformat_minor": 5
}
