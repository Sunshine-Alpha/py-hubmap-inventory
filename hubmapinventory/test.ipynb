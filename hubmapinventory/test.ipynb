{
 "cells": [
  {
   "cell_type": "code",
   "execution_count": null,
   "metadata": {},
   "outputs": [],
   "source": [
    "import pandas as pd\n",
    "import datetime\n",
    "import hashlib\n",
    "import json\n",
    "import os\n",
    "import os.path\n",
    "import shutil\n",
    "import uuid\n",
    "import warnings\n",
    "import typing\n",
    "from pathlib import Path\n",
    "import gzip\n",
    "import numpy as np\n",
    "import pandas as pd\n"
   ]
  },
  {
   "cell_type": "code",
   "execution_count": null,
   "metadata": {},
   "outputs": [],
   "source": [
    "def get() -> pd.DataFrame:\n",
    "    # metadata = hubmapbags.apis.get_dataset_info(hubmap_id, instance=\"prod\", token=token)\n",
    "    \n",
    "    file = 'd9e3c80a32567cde9b61e38ce8693559.tsv'\n",
    "    filename = f\"{file}\"\n",
    "    if Path(filename).exists():\n",
    "        return pd.read_csv(filename, sep=\"\\t\", low_memory=False)\n",
    "    return pd.DataFrame()"
   ]
  },
  {
   "cell_type": "code",
   "execution_count": null,
   "metadata": {},
   "outputs": [],
   "source": [
    "data = get()\n",
    "extension_list = data['extension'].to_list()\n",
    "extension_list"
   ]
  },
  {
   "cell_type": "code",
   "execution_count": null,
   "metadata": {},
   "outputs": [],
   "source": [
    "data.columns"
   ]
  },
  {
   "cell_type": "code",
   "execution_count": null,
   "metadata": {},
   "outputs": [],
   "source": [
    "#access protocols (FM-A1.1)\n",
    "from urllib.parse import urlparse\n",
    "\n",
    "def get_access_protocol(download_url):\n",
    "    url_parts = urlparse(download_url)\n",
    "    return url_parts.scheme\n",
    "\n",
    "# usage\n",
    "download_url = 'https://example.com/path/to/file'#can be found in tsv files\n",
    "access_protocol = get_access_protocol(download_url)\n",
    "print(access_protocol)  # will print: https"
   ]
  },
  {
   "cell_type": "code",
   "execution_count": null,
   "metadata": {},
   "outputs": [],
   "source": [
    "# any additional authorization procedures(FM-A1.2)\n",
    "import requests\n",
    "\n",
    "def download_file(url, token):\n",
    "    headers = {\n",
    "        'Authorization': f'Bearer {token}',\n",
    "    }\n",
    "    response = requests.get(url, headers=headers)\n",
    "\n",
    "    if response.status_code == 200:\n",
    "        return response.content\n",
    "    else:\n",
    "        print(f'Error downloading file: {response.status_code}')\n",
    "        return None"
   ]
  },
  {
   "cell_type": "code",
   "execution_count": null,
   "metadata": {},
   "outputs": [],
   "source": [
    "#metadata longevity (FM-A2)\n",
    "\n",
    "from datetime import datetime\n",
    "\n",
    "# # Load the TSV file into a DataFrame\n",
    "# df = pd.read_csv('file.tsv', sep='\\t')\n",
    "\n",
    "def check_metadata_longevity(df, column='modification_time'):\n",
    "    # convert to datetime\n",
    "    df[column] = pd.to_datetime(df[column])\n",
    "\n",
    "    # Calculate the difference in days between the current time and the modification time\n",
    "    df['days_since_modification'] = (datetime.now() - df[column]).dt.days\n",
    "\n",
    "    return df\n",
    "\n",
    "# Use the function\n",
    "df = check_metadata_longevity(df)\n",
    "\n",
    "# print(df[['file_uuid', 'days_since_modification']])"
   ]
  },
  {
   "cell_type": "code",
   "execution_count": null,
   "metadata": {},
   "outputs": [],
   "source": [
    "# Ensure the public registration of their identifier schemes (FM-F1A),\n",
    "def check_public_reg(url):\n",
    "    '''\n",
    "    it will check the url if it has any DOIs, ISBN or ORCID number as publicly registered identifiers\n",
    "    '''\n",
    "    return True\n"
   ]
  },
  {
   "cell_type": "code",
   "execution_count": null,
   "metadata": {},
   "outputs": [],
   "source": [
    "# Details their plans with respect to identifier management (FM-F1B)"
   ]
  },
  {
   "cell_type": "code",
   "execution_count": null,
   "metadata": {},
   "outputs": [],
   "source": [
    "# Machine-readable metadata (FM-F2, FM-F3)\n",
    "\n",
    "def check_machine_readability(df, column='extension'):\n",
    "    machine_readable_extensions = {'json', 'csv', 'xml', 'tsv', 'yaml'}\n",
    "    \n",
    "    # Create a new column in the DataFrame that indicates whether the file is likely machine-readable\n",
    "    df['is_machine_readable'] = df[column].isin(machine_readable_extensions)\n",
    "    \n",
    "    for _, row in df.iterrows():\n",
    "        print(f\"File UUID: {row['file_uuid']}, Likely machine-readable: {row['is_machine_readable']}\")\n",
    "\n",
    "\n",
    "# Use the function\n",
    "df = ...  # your DataFrame here\n",
    "check_machine_readability(df)\n",
    "\n",
    "# Print 'file_uuid' and 'is_machine_readable' for each row\n",
    "\n"
   ]
  },
  {
   "cell_type": "code",
   "execution_count": null,
   "metadata": {},
   "outputs": [],
   "source": []
  }
 ],
 "metadata": {
  "kernelspec": {
   "display_name": "fshormin",
   "language": "python",
   "name": "python3"
  },
  "language_info": {
   "codemirror_mode": {
    "name": "ipython",
    "version": 3
   },
   "file_extension": ".py",
   "mimetype": "text/x-python",
   "name": "python",
   "nbconvert_exporter": "python",
   "pygments_lexer": "ipython3",
   "version": "3.9.16"
  },
  "orig_nbformat": 4
 },
 "nbformat": 4,
 "nbformat_minor": 2
}
